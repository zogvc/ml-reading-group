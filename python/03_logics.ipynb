{
 "cells": [
  {
   "cell_type": "markdown",
   "id": "9b8c2102-f1cd-405d-a7c8-b8d85c605369",
   "metadata": {},
   "source": [
    "# **Logical Expressions and Operators**"
   ]
  },
  {
   "cell_type": "markdown",
   "id": "2a023dbe-6460-46c9-9692-70723d303b87",
   "metadata": {},
   "source": [
    "## **0. Introduction**"
   ]
  },
  {
   "cell_type": "markdown",
   "id": "de4cc683-60fd-4914-9ae0-242f72ad8429",
   "metadata": {},
   "source": [
    "In this note we begin"
   ]
  },
  {
   "cell_type": "markdown",
   "id": "7e9fb3b4-62e3-46c6-b160-81adb2023f62",
   "metadata": {},
   "source": [
    "### **0.1. Expected Outcomes**"
   ]
  },
  {
   "cell_type": "markdown",
   "id": "08eb09b0-e2f3-45b7-bd93-b36d582c8e5b",
   "metadata": {},
   "source": [
    "### **0.2. References**"
   ]
  },
  {
   "cell_type": "markdown",
   "id": "c70898e2-eb6f-4f3d-9c88-c8a838076054",
   "metadata": {},
   "source": []
  },
  {
   "cell_type": "markdown",
   "id": "25d2f766-c87e-4143-9105-4853bc91d100",
   "metadata": {},
   "source": [
    "## **1. Numerical Data**"
   ]
  },
  {
   "cell_type": "code",
   "execution_count": null,
   "id": "29b746f7-305d-44bf-b72b-e1e25fc17806",
   "metadata": {},
   "outputs": [],
   "source": []
  }
 ],
 "metadata": {
  "kernelspec": {
   "display_name": "Python 3 (ipykernel)",
   "language": "python",
   "name": "python3"
  },
  "language_info": {
   "codemirror_mode": {
    "name": "ipython",
    "version": 3
   },
   "file_extension": ".py",
   "mimetype": "text/x-python",
   "name": "python",
   "nbconvert_exporter": "python",
   "pygments_lexer": "ipython3",
   "version": "3.11.7"
  }
 },
 "nbformat": 4,
 "nbformat_minor": 5
}
