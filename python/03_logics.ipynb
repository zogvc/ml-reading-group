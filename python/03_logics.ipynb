{
 "cells": [
  {
   "cell_type": "markdown",
   "id": "9b8c2102-f1cd-405d-a7c8-b8d85c605369",
   "metadata": {},
   "source": [
    "# **Logical Expressions and Operators**"
   ]
  },
  {
   "cell_type": "markdown",
   "id": "2a023dbe-6460-46c9-9692-70723d303b87",
   "metadata": {},
   "source": [
    "## **0. Introduction**"
   ]
  },
  {
   "cell_type": "markdown",
   "id": "de4cc683-60fd-4914-9ae0-242f72ad8429",
   "metadata": {},
   "source": [
    "In this note we begin"
   ]
  },
  {
   "cell_type": "markdown",
   "id": "7e9fb3b4-62e3-46c6-b160-81adb2023f62",
   "metadata": {},
   "source": [
    "### **0.1. Expected Outcomes**"
   ]
  },
  {
   "cell_type": "markdown",
   "id": "08eb09b0-e2f3-45b7-bd93-b36d582c8e5b",
   "metadata": {},
   "source": [
    "### **0.2. References**"
   ]
  },
  {
   "cell_type": "markdown",
   "id": "c70898e2-eb6f-4f3d-9c88-c8a838076054",
   "metadata": {},
   "source": [
    "This note draws heavily from the following sources:\n",
    "\n",
    "- David J. Malan. (2023). Introduction to Programming with Python. Harvard CS50. [link](https://www.youtube.com/watch?v=nLRL_NcnK-4&t=763s)\n",
    "- Chase Coleman, Spencer Lyon, and Jesse Perla. (n.d.). Basics. QuantEcon DataScience. [link](https://datascience.quantecon.org/python_fundamentals/basics.html)\n",
    "- Kang-Oh Yi. (2023). Lecture notes on \"Python for Economists\". Sogang University.\n",
    "\n",
    "We highly recommend checking them out if you are interested in learning more about this topic."
   ]
  },
  {
   "cell_type": "markdown",
   "id": "25d2f766-c87e-4143-9105-4853bc91d100",
   "metadata": {},
   "source": [
    "## **1. Booleans**"
   ]
  },
  {
   "cell_type": "markdown",
   "id": "d60c0ead-f0cb-49e0-b683-1e4ed4702809",
   "metadata": {},
   "source": [
    "A boolean is a type that denotes *true* or *false*.\n",
    "\n",
    "As you will see soon in the control flow note, using boolean values allows you to perform or skip operations depending on whether or not a condition is met.\n",
    "\n",
    "Let's start by creating some booleans and looking at them."
   ]
  },
  {
   "cell_type": "code",
   "execution_count": 1,
   "id": "7727eab0-ded2-45e0-80c8-d556e22b6407",
   "metadata": {},
   "outputs": [],
   "source": [
    "t = True\n",
    "f = False"
   ]
  },
  {
   "cell_type": "code",
   "execution_count": 2,
   "id": "bb837bfa-326e-48dc-8b08-dea87b9e9b50",
   "metadata": {},
   "outputs": [
    {
     "data": {
      "text/plain": [
       "bool"
      ]
     },
     "execution_count": 2,
     "metadata": {},
     "output_type": "execute_result"
    }
   ],
   "source": [
    "type(t)"
   ]
  },
  {
   "cell_type": "code",
   "execution_count": 3,
   "id": "0ef1cf23-91b3-499a-8d35-4bb626d507da",
   "metadata": {},
   "outputs": [
    {
     "data": {
      "text/plain": [
       "True"
      ]
     },
     "execution_count": 3,
     "metadata": {},
     "output_type": "execute_result"
    }
   ],
   "source": [
    "t"
   ]
  },
  {
   "cell_type": "code",
   "execution_count": 4,
   "id": "2352c952-dab4-40c2-b76f-025f35cebf13",
   "metadata": {},
   "outputs": [
    {
     "data": {
      "text/plain": [
       "False"
      ]
     },
     "execution_count": 4,
     "metadata": {},
     "output_type": "execute_result"
    }
   ],
   "source": [
    "f"
   ]
  },
  {
   "cell_type": "markdown",
   "id": "5f02387f-5a96-40e3-a865-8e8679041565",
   "metadata": {},
   "source": [
    "## **2. Comparison Operators**"
   ]
  },
  {
   "cell_type": "markdown",
   "id": "0988890a-3be1-47b8-9eee-07685696d8dc",
   "metadata": {},
   "source": [
    "Rather than directly write `True` or `False`, you will usually create booleans by making a comparison.\n",
    "\n",
    "For example, you might want to evaluate whether the price of a particular asset is greater than or less than some price.\n",
    "\n",
    "For two variables `x` and `y`, we can do the following comparisons:\n",
    "\n",
    "- Greater than: `x > y`\n",
    "- Less than: `x < y`\n",
    "- Equal to: `==`\n",
    "- Greater than or equal to: `x >= y`\n",
    "- Less than or equal to: `x <= y`\n",
    "\n",
    "We demonstrate this below."
   ]
  },
  {
   "cell_type": "code",
   "execution_count": 6,
   "id": "6723c0e4-52cc-4ec1-905b-3249b9bc7277",
   "metadata": {},
   "outputs": [
    {
     "name": "stdout",
     "output_type": "stream",
     "text": [
      "x > y  is True\n",
      "x < y  is False\n",
      "x == y is False\n",
      "x >= y is True\n",
      "x <= y is False\n"
     ]
    }
   ],
   "source": [
    "x = 4\n",
    "y = 2\n",
    "\n",
    "print('x > y  is', x > y)\n",
    "print('x < y  is', x < y)\n",
    "print('x == y is', x == y)\n",
    "print('x >= y is', x >= y)\n",
    "print('x <= y is', x <= y)"
   ]
  },
  {
   "cell_type": "markdown",
   "id": "7ed26968-5cdc-4625-960b-2dff2e8c5fea",
   "metadata": {},
   "source": [
    "## **3. Negation**"
   ]
  },
  {
   "cell_type": "markdown",
   "id": "ea9d8000-bd9e-4503-ace7-9ce50caa4c04",
   "metadata": {},
   "source": [
    "Occasionally, determining whether a statement is \"not true\" or \"not false\" is more convenient than simply \"true\" or \"false\".\n",
    "\n",
    "This is known as **negating** a statement.\n",
    "\n",
    "In Python, we can negate a boolean using the word `not`."
   ]
  },
  {
   "cell_type": "code",
   "execution_count": 7,
   "id": "67154f64-244c-4589-9ce4-2e082f1c2a8a",
   "metadata": {},
   "outputs": [
    {
     "data": {
      "text/plain": [
       "True"
      ]
     },
     "execution_count": 7,
     "metadata": {},
     "output_type": "execute_result"
    }
   ],
   "source": [
    "not False"
   ]
  },
  {
   "cell_type": "code",
   "execution_count": 8,
   "id": "d05c2d03-c30d-4323-ac52-7d26c0341b25",
   "metadata": {},
   "outputs": [
    {
     "data": {
      "text/plain": [
       "False"
      ]
     },
     "execution_count": 8,
     "metadata": {},
     "output_type": "execute_result"
    }
   ],
   "source": [
    "not True"
   ]
  },
  {
   "cell_type": "markdown",
   "id": "73c39fdd-d4d0-4bb6-891f-835bc64c664a",
   "metadata": {},
   "source": [
    "## **4. Multiple Comparisons**"
   ]
  },
  {
   "cell_type": "markdown",
   "id": "914064e0-eea0-47e7-b1f0-6225400a847f",
   "metadata": {},
   "source": [
    "Sometimes we need to evaluate multiple comparisons at once.\n",
    "\n",
    "This is done by using the words `and` and `or`.\n",
    "\n",
    "However, these are the \"mathematical\" *ands* and *ors* - so they don't carry the same meaning as you'd use them in colloquial English.\n",
    "\n",
    "- `a and b` is true only when *both* `a` and `b` are true.\n",
    "- `a or b` is true whenever at least one of `a` or `b` is true.\n",
    "\n",
    "This relationship can be simply represented with the following truth table:\n",
    "\n",
    "|p    |q    |p and q|p or q|\n",
    "|:---:|:---:|:-----:|:----:|\n",
    "|True |True |True   |True  |\n",
    "|True |False|False  |True  |\n",
    "|False|True |False  |True  |\n",
    "|False|False|False  |False |\n",
    "\n",
    "Let's see some examples."
   ]
  },
  {
   "cell_type": "code",
   "execution_count": 9,
   "id": "c4a76a18-790b-4dea-a18c-1315c15d7123",
   "metadata": {},
   "outputs": [
    {
     "data": {
      "text/plain": [
       "False"
      ]
     },
     "execution_count": 9,
     "metadata": {},
     "output_type": "execute_result"
    }
   ],
   "source": [
    "True and False"
   ]
  },
  {
   "cell_type": "code",
   "execution_count": 10,
   "id": "24a03004-c8ad-45d4-9c65-46cd9416a975",
   "metadata": {},
   "outputs": [
    {
     "data": {
      "text/plain": [
       "True"
      ]
     },
     "execution_count": 10,
     "metadata": {},
     "output_type": "execute_result"
    }
   ],
   "source": [
    "True and True"
   ]
  },
  {
   "cell_type": "code",
   "execution_count": 11,
   "id": "4c8c0f92-90c7-4f3d-94fb-e9f0947ca41a",
   "metadata": {},
   "outputs": [
    {
     "data": {
      "text/plain": [
       "True"
      ]
     },
     "execution_count": 11,
     "metadata": {},
     "output_type": "execute_result"
    }
   ],
   "source": [
    "True or False"
   ]
  },
  {
   "cell_type": "code",
   "execution_count": 12,
   "id": "bb52f543-982d-4bf7-b45d-37a02c6ce115",
   "metadata": {},
   "outputs": [
    {
     "data": {
      "text/plain": [
       "False"
      ]
     },
     "execution_count": 12,
     "metadata": {},
     "output_type": "execute_result"
    }
   ],
   "source": [
    "False or False"
   ]
  },
  {
   "cell_type": "markdown",
   "id": "ebc88614-704a-4a7c-9a89-c061dbc80208",
   "metadata": {},
   "source": [
    "You can also chain multiple comparisons together."
   ]
  },
  {
   "cell_type": "code",
   "execution_count": 13,
   "id": "4214ea18-9e4e-4086-bf16-d4dc20a7f19a",
   "metadata": {},
   "outputs": [
    {
     "data": {
      "text/plain": [
       "True"
      ]
     },
     "execution_count": 13,
     "metadata": {},
     "output_type": "execute_result"
    }
   ],
   "source": [
    "True and (False or True)"
   ]
  },
  {
   "cell_type": "markdown",
   "id": "0fe2d5d6-abc0-44b5-91dc-ddec3aa8f141",
   "metadata": {},
   "source": [
    "<div class=\"alert alert-block alert-info\">\n",
    "\n",
    "<b>Exercise</b>\n",
    "\n",
    "Without typing commands, determine whether the following statements are true or false.\n",
    "\n",
    "Once You have evaluated whether the command is `True` or `False`, run the code in Python.\n",
    "</div>"
   ]
  },
  {
   "cell_type": "code",
   "execution_count": 14,
   "id": "846356c7-bb30-4214-996c-fb23b8e4ea2a",
   "metadata": {},
   "outputs": [
    {
     "name": "stdout",
     "output_type": "stream",
     "text": [
      "False\n",
      "True\n",
      "False\n",
      "False\n",
      "True\n",
      "True\n"
     ]
    }
   ],
   "source": [
    "x = 2\n",
    "y = 2\n",
    "z = 4\n",
    "\n",
    "# statement 1\n",
    "print(x > z) \n",
    "\n",
    "# statement 2\n",
    "print(x == y) \n",
    "\n",
    "# statement 3\n",
    "print((x < y) and (x > y))\n",
    "\n",
    "# statement 4\n",
    "print((x < y) or (x > y)) \n",
    "\n",
    "# statement 5\n",
    "print((x <= y) and (x >= y)) \n",
    "\n",
    "# statement 6\n",
    "print(True and ((x < z) or (x < y))) "
   ]
  },
  {
   "cell_type": "markdown",
   "id": "24017200-0517-46d3-b73c-d8bb62dcfab1",
   "metadata": {},
   "source": [
    "## **5. Quantifiers**"
   ]
  },
  {
   "cell_type": "markdown",
   "id": "434abf0b-f510-48b8-af15-abb9c77b291b",
   "metadata": {},
   "source": [
    "We have seen how we can use the words `and` and `or` to process two booleans at a time.\n",
    "\n",
    "The functions `all` and `any` allow us to process an unlimited number of booleans at once.\n",
    "\n",
    "- `all(bools)` will return `True` if and only if all the booleans in `bools` is `True` and returns `False` otherwise.\n",
    "- `any(bools)` returns `True` whenever one or more of `bools` is `True`."
   ]
  },
  {
   "cell_type": "markdown",
   "id": "dc610bc7-8cf2-4967-9d3f-41264632037c",
   "metadata": {},
   "source": [
    "<div class=\"alert alert-block alert-info\">\n",
    "\n",
    "<b>Exercise</b>\n",
    "\n",
    "For each of the code cells below, think carefully about what you expect to be returned before executing the cell.\n",
    "\n",
    "Then execute the cell to check your intuitions.\n",
    "\n",
    "For now, do not worry about what the `[` and `]` mean - they allow us to create lists which we will learn about in an upcoming notes.\n",
    "</div>"
   ]
  },
  {
   "cell_type": "code",
   "execution_count": 15,
   "id": "f36c90a6-ce5c-41f2-b8d5-999fb106b617",
   "metadata": {},
   "outputs": [
    {
     "data": {
      "text/plain": [
       "True"
      ]
     },
     "execution_count": 15,
     "metadata": {},
     "output_type": "execute_result"
    }
   ],
   "source": [
    "all([True, True, True])"
   ]
  },
  {
   "cell_type": "code",
   "execution_count": 16,
   "id": "a988c488-a34f-4cd1-8f18-4d8b19f7aa7b",
   "metadata": {},
   "outputs": [
    {
     "data": {
      "text/plain": [
       "False"
      ]
     },
     "execution_count": 16,
     "metadata": {},
     "output_type": "execute_result"
    }
   ],
   "source": [
    "all([False, True, False])"
   ]
  },
  {
   "cell_type": "code",
   "execution_count": 17,
   "id": "e38a8a56-3cc1-4dc6-8cae-96673684479a",
   "metadata": {},
   "outputs": [
    {
     "data": {
      "text/plain": [
       "False"
      ]
     },
     "execution_count": 17,
     "metadata": {},
     "output_type": "execute_result"
    }
   ],
   "source": [
    "all([False, False, False])"
   ]
  },
  {
   "cell_type": "code",
   "execution_count": 18,
   "id": "0356d6b4-f3a9-4e4c-9d0f-58a0577c5345",
   "metadata": {},
   "outputs": [
    {
     "data": {
      "text/plain": [
       "True"
      ]
     },
     "execution_count": 18,
     "metadata": {},
     "output_type": "execute_result"
    }
   ],
   "source": [
    "any([True, True, True])"
   ]
  },
  {
   "cell_type": "code",
   "execution_count": 19,
   "id": "d536c125-f7a6-4881-8f20-c5bb6c5cede4",
   "metadata": {},
   "outputs": [
    {
     "data": {
      "text/plain": [
       "True"
      ]
     },
     "execution_count": 19,
     "metadata": {},
     "output_type": "execute_result"
    }
   ],
   "source": [
    "any([False, True, False])"
   ]
  },
  {
   "cell_type": "code",
   "execution_count": 20,
   "id": "68bd131a-ae05-41fc-b463-2e7157379c37",
   "metadata": {},
   "outputs": [
    {
     "data": {
      "text/plain": [
       "False"
      ]
     },
     "execution_count": 20,
     "metadata": {},
     "output_type": "execute_result"
    }
   ],
   "source": [
    "any([False, False, False])"
   ]
  },
  {
   "cell_type": "code",
   "execution_count": null,
   "id": "792fee56-ae55-43e7-b906-cc47cbd62870",
   "metadata": {},
   "outputs": [],
   "source": []
  }
 ],
 "metadata": {
  "kernelspec": {
   "display_name": "Python 3 (ipykernel)",
   "language": "python",
   "name": "python3"
  },
  "language_info": {
   "codemirror_mode": {
    "name": "ipython",
    "version": 3
   },
   "file_extension": ".py",
   "mimetype": "text/x-python",
   "name": "python",
   "nbconvert_exporter": "python",
   "pygments_lexer": "ipython3",
   "version": "3.11.7"
  }
 },
 "nbformat": 4,
 "nbformat_minor": 5
}
