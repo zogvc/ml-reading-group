{
 "cells": [
  {
   "cell_type": "markdown",
   "id": "9b8c2102-f1cd-405d-a7c8-b8d85c605369",
   "metadata": {},
   "source": [
    "# **Programming Concepts**"
   ]
  },
  {
   "cell_type": "markdown",
   "id": "2a023dbe-6460-46c9-9692-70723d303b87",
   "metadata": {},
   "source": [
    "## **0. Introduction**"
   ]
  },
  {
   "cell_type": "markdown",
   "id": "de4cc683-60fd-4914-9ae0-242f72ad8429",
   "metadata": {},
   "source": [
    "In this note, we will begin by introducing the *basic (but important) programming concepts*.\n",
    "\n",
    "Even though it is an introductory note, it covers a lot of ground.\n",
    "\n",
    "So it may be confusing and seemingly incomplete, but as you proceed and come back after you complete reading all the notes in this directory, you will eventually understand the big picture of this very first note.\n",
    "\n",
    "Therefore you can just briefly look through this note and move on to the second one."
   ]
  },
  {
   "cell_type": "markdown",
   "id": "7e9fb3b4-62e3-46c6-b160-81adb2023f62",
   "metadata": {},
   "source": [
    "### **0.1. Expected Outcomes**"
   ]
  },
  {
   "cell_type": "markdown",
   "id": "08eb09b0-e2f3-45b7-bd93-b36d582c8e5b",
   "metadata": {},
   "source": [
    "### **0.2. References**"
   ]
  },
  {
   "cell_type": "markdown",
   "id": "c70898e2-eb6f-4f3d-9c88-c8a838076054",
   "metadata": {},
   "source": [
    "This note draws heavily from the following sources:\n",
    "\n",
    "- David J. Malan. (2023). Introduction to Programming with Python. Harvard CS50. [link](https://www.youtube.com/watch?v=nLRL_NcnK-4&t=763s)\n",
    "- Chase Coleman, Spencer Lyon, and Jesse Perla. (n.d.). Basics. QuantEcon DataScience. [link](https://datascience.quantecon.org/python_fundamentals/basics.html)\n",
    "\n",
    "We highly recommend checking them out if you are interested in learning more about this topic."
   ]
  },
  {
   "cell_type": "markdown",
   "id": "25d2f766-c87e-4143-9105-4853bc91d100",
   "metadata": {},
   "source": [
    "## **1. Built-in Functions**"
   ]
  },
  {
   "cell_type": "markdown",
   "id": "bb877b87-60f9-45cb-9e39-6be0a17b04e7",
   "metadata": {},
   "source": [
    "For those who have no experience in programming, we start with a simple example.\n",
    "\n",
    "```python\n",
    "print(\"Hello World!\")\n",
    "```\n",
    "\n",
    "Even if you have never programmed before, you can guess what this one-line code will do.\n",
    "\n",
    "One possible inference may be \"It will display a text \"Hello World!\" on the output screen.\"\n",
    "\n",
    "Let's see if our guess is right."
   ]
  },
  {
   "cell_type": "code",
   "execution_count": 1,
   "id": "ec7e108e-c34e-45af-ae86-1d87a992ce14",
   "metadata": {},
   "outputs": [
    {
     "name": "stdout",
     "output_type": "stream",
     "text": [
      "Hello World!\n"
     ]
    }
   ],
   "source": [
    "print(\"Hello World!\")"
   ]
  },
  {
   "cell_type": "markdown",
   "id": "23ba4f22-7408-48a8-bdd4-82fb8feb2e27",
   "metadata": {},
   "source": [
    "Now we have executed our first 'code'!\n",
    "\n",
    "We call this as functions.\n",
    "\n",
    "**Functions** are processes that take an input (or inputs) and produce an output.\n",
    "\n",
    "- An input is called an **argument**.\n",
    "- An output is called an **return values**."
   ]
  },
  {
   "cell_type": "markdown",
   "id": "4f24b5c4-9b79-45a3-9c63-5071a7ab476e",
   "metadata": {},
   "source": [
    "## **2. Getting Help**"
   ]
  },
  {
   "cell_type": "markdown",
   "id": "433651da-e883-4640-beb3-1d35f12ce708",
   "metadata": {},
   "source": [
    "## **3. Code Comments**"
   ]
  },
  {
   "cell_type": "markdown",
   "id": "ce40b62c-eafc-4302-b8c9-f7787fce119f",
   "metadata": {},
   "source": [
    "## **4. Variables**"
   ]
  },
  {
   "cell_type": "markdown",
   "id": "86f8265d-2193-4c19-87ab-74bcd614a3f1",
   "metadata": {},
   "source": [
    "Now let's move on to another example.\n",
    "\n",
    "Let's say if you want to ask a user her name and print \"Hello world\" with the given name.\n",
    "\n",
    "If we want to take some values from the user, we can use a (built-in) function called `input()` to solve this problem."
   ]
  },
  {
   "cell_type": "code",
   "execution_count": 2,
   "id": "31721cb4-fd86-48ae-af31-ceec8139434c",
   "metadata": {},
   "outputs": [
    {
     "name": "stdin",
     "output_type": "stream",
     "text": [
      "What's your name? :  Jeong\n"
     ]
    },
    {
     "data": {
      "text/plain": [
       "'Jeong'"
      ]
     },
     "execution_count": 2,
     "metadata": {},
     "output_type": "execute_result"
    }
   ],
   "source": [
    "input(\"What's your name? : \")"
   ]
  },
  {
   "cell_type": "markdown",
   "id": "8c1d64a9-d6dc-41a6-96d7-b35de4604cd2",
   "metadata": {},
   "source": [
    "Now we can get a user's name.\n",
    "\n",
    "However, the problem here is that we cannot store the received user's name somewhere to print it with the text \"Hello world\"."
   ]
  },
  {
   "cell_type": "markdown",
   "id": "ecacf25d-5cf0-4d04-a9ae-c358ae776076",
   "metadata": {},
   "source": [
    "## **5. Objects and Types**"
   ]
  },
  {
   "cell_type": "markdown",
   "id": "947cfb08-c019-4bf0-9213-80d5f11b08bc",
   "metadata": {},
   "source": [
    "## **6. Modules**"
   ]
  },
  {
   "cell_type": "markdown",
   "id": "b6640bcb-636e-43e2-a4f4-7919d61827fb",
   "metadata": {},
   "source": [
    "## **7. Good Code Habits**"
   ]
  },
  {
   "cell_type": "code",
   "execution_count": null,
   "id": "db901a6c-f17f-43e7-b3f7-bb5788bca3c9",
   "metadata": {},
   "outputs": [],
   "source": []
  }
 ],
 "metadata": {
  "kernelspec": {
   "display_name": "Python 3 (ipykernel)",
   "language": "python",
   "name": "python3"
  },
  "language_info": {
   "codemirror_mode": {
    "name": "ipython",
    "version": 3
   },
   "file_extension": ".py",
   "mimetype": "text/x-python",
   "name": "python",
   "nbconvert_exporter": "python",
   "pygments_lexer": "ipython3",
   "version": "3.11.7"
  }
 },
 "nbformat": 4,
 "nbformat_minor": 5
}
